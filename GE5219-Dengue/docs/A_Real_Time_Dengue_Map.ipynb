{
 "cells": [
  {
   "cell_type": "markdown",
   "id": "595ad214",
   "metadata": {},
   "source": [
    "# A Real-Time Dengue Map for Singapore\n",
    "- README.md"
   ]
  },
  {
   "cell_type": "markdown",
   "id": "63c9cfe4",
   "metadata": {},
   "source": [
    "## Setup and imports \n",
    "- libraries, path setup\n",
    "- dependencies.txt\n",
    "\n",
    "### Key Dependencies\n",
    "```python\n",
    "# Core libraries for GIS and data processing\n",
    "import pandas as pd\n",
    "import geopandas as gpd\n",
    "import httpx  # For API requests\n",
    "import json\n",
    "from datetime import datetime, timedelta\n",
    "from pathlib import Path\n",
    "\n",
    "# For spatial analysis and interpolation\n",
    "import rasterio\n",
    "import pyproj\n",
    "from shapely.geometry import Point, Polygon\n",
    "from sklearn.preprocessing import MinMaxScaler\n",
    "\n",
    "# For web dashboard\n",
    "from fastapi import FastAPI\n",
    "import uvicorn\n",
    "```"
   ]
  },
  {
   "cell_type": "code",
   "execution_count": null,
   "id": "e48a6d79",
   "metadata": {
    "vscode": {
     "languageId": "markdown"
    }
   },
   "outputs": [],
   "source": []
  },
  {
   "cell_type": "markdown",
   "id": "a3286552",
   "metadata": {},
   "source": [
    "## Data acquisition \n",
    "> Acquire Live Data from APIs\n",
    "- api_config(api sources)\n",
    "- fetch_dengue.py, fetch_weather.py\n",
    "- subzoneboundaries, populationsubzone\n",
    "- fetch_ndvi.py"
   ]
  },
  {
   "cell_type": "code",
   "execution_count": null,
   "id": "71b963e8",
   "metadata": {
    "vscode": {
     "languageId": "markdown"
    }
   },
   "outputs": [],
   "source": []
  },
  {
   "cell_type": "markdown",
   "id": "233d0159",
   "metadata": {},
   "source": [
    "## Processing & Cleaning\n",
    "> Cleaning data and applying temporal lag\n",
    "\n",
    "**Key Processing Steps:**\n",
    "1. **Temporal Lag Application** - Apply 2-month lag to weather data for dengue modeling\n",
    "2. **Spatial Projection** - Project all data to SVY21 coordinate system (Singapore's national grid)\n",
    "3. **Population Density** - Calculate population density per subzone\n",
    "4. **Surface Interpolation** - Create continuous surfaces using Kriging for weather data\n",
    "5. **NDVI Processing** - Calculate vegetation density from satellite imagery\n",
    "\n",
    "**Scripts:**\n",
    "- `apply_temporal_lag.py` - Process weather data with 2-month lag\n",
    "- `calculate_population_density.py` - Compute population densities by subzone\n",
    "- `interpolate_surfaces.py` - Spatial interpolation of weather surfaces\n",
    "- `create_ndvi.py` - Vegetation density calculation"
   ]
  },
  {
   "cell_type": "code",
   "execution_count": null,
   "id": "094b3ff2",
   "metadata": {
    "vscode": {
     "languageId": "markdown"
    }
   },
   "outputs": [],
   "source": []
  },
  {
   "cell_type": "markdown",
   "id": "9a2277f7",
   "metadata": {},
   "source": [
    "## Analysis (Prepare Data)\n",
    "> Aggregation and risk calculation\n",
    "\n",
    "**Analytical Hierarchy Process (AHP) Variables:**\n",
    "1. **Dengue Cases** - Current cluster data (Red/Yellow/Green zones)\n",
    "2. **Lagged Rainfall** - 2-month lagged precipitation data  \n",
    "3. **Lagged Air Temperature** - 2-month lagged temperature (focus on minimum values)\n",
    "4. **Population Density** - Residents per subzone area\n",
    "5. **Vegetation Density (NDVI)** - Normalized Difference Vegetation Index\n",
    "\n",
    "**Data Aggregation:**\n",
    "- All variables aggregated to subzone level\n",
    "- Spatial interpolation for weather surfaces\n",
    "- Population density calculation from census data\n",
    "- NDVI derived from satellite imagery\n",
    "- Risk scores normalized and weighted using AHP methodology"
   ]
  },
  {
   "cell_type": "code",
   "execution_count": null,
   "id": "f278b8d6",
   "metadata": {
    "vscode": {
     "languageId": "markdown"
    }
   },
   "outputs": [],
   "source": []
  },
  {
   "cell_type": "markdown",
   "id": "f6b672b2",
   "metadata": {},
   "source": [
    "## Weighted Risk Score Calculation\n",
    "\n",
    "**Analytical Hierarchy Process (AHP) Methodology:**\n",
    "- Determine variable weights through pairwise comparison\n",
    "- Validate weights using space-time scan statistics on historical data\n",
    "- Calculate weighted risk scores for each subzone\n",
    "\n",
    "**Risk Factors:**\n",
    "1. **Current Dengue Activity** (highest weight)\n",
    "2. **Lagged Weather Conditions** (temperature + rainfall)\n",
    "3. **Population Density** (exposure factor)\n",
    "4. **Vegetation Density** (breeding habitat indicator)\n",
    "\n",
    "**Output:** Continuous risk surface for real-time dengue mapping"
   ]
  },
  {
   "cell_type": "code",
   "execution_count": null,
   "id": "d139f75b",
   "metadata": {
    "vscode": {
     "languageId": "markdown"
    }
   },
   "outputs": [],
   "source": []
  },
  {
   "cell_type": "markdown",
   "id": "c4892502",
   "metadata": {},
   "source": [
    "## Visualization & Deployment\n",
    "> Creating maps and statistical visualizations\n",
    "\n",
    "**Web Dashboard Components:**\n",
    "- **Interactive Map**: Leaflet.js with risk surface overlays\n",
    "- **Real-time Updates**: 5-minute refresh cycle for weather, daily for dengue\n",
    "- **Risk Legend**: Color-coded risk levels (Red/Yellow/Green + gradient)\n",
    "- **Data Panels**: Current statistics and trend indicators\n",
    "\n",
    "**Technical Stack:**\n",
    "- **Backend**: FastAPI (Python) for data processing and API endpoints\n",
    "- **Frontend**: HTML5/JavaScript with Leaflet mapping library\n",
    "- **Data Flow**: RESTful APIs serving GeoJSON risk surfaces\n",
    "- **Deployment**: Local development server with auto-reload\n",
    "\n",
    "**Configuration Files:**\n",
    "- `app_config.json` - Dashboard settings and refresh intervals\n",
    "- `api_config.json` - Data source endpoints and credentials"
   ]
  },
  {
   "cell_type": "code",
   "execution_count": null,
   "id": "770e8512",
   "metadata": {
    "vscode": {
     "languageId": "markdown"
    }
   },
   "outputs": [],
   "source": []
  },
  {
   "cell_type": "markdown",
   "id": "5e6610bb",
   "metadata": {},
   "source": [
    "## Reference"
   ]
  },
  {
   "cell_type": "code",
   "execution_count": null,
   "id": "ebde07ba",
   "metadata": {
    "vscode": {
     "languageId": "markdown"
    }
   },
   "outputs": [],
   "source": []
  },
  {
   "cell_type": "markdown",
   "id": "017d4097",
   "metadata": {},
   "source": [
    "## Credits"
   ]
  }
 ],
 "metadata": {
  "kernelspec": {
   "display_name": "arcgispro-ai",
   "language": "python",
   "name": "python3"
  },
  "language_info": {
   "codemirror_mode": {
    "name": "ipython",
    "version": 3
   },
   "file_extension": ".py",
   "mimetype": "text/x-python",
   "name": "python",
   "nbconvert_exporter": "python",
   "pygments_lexer": "ipython3",
   "version": "3.11.11"
  }
 },
 "nbformat": 4,
 "nbformat_minor": 5
}
